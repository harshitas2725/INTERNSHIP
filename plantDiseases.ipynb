{
 "cells": [
  {
   "cell_type": "markdown",
   "id": "5eff339c",
   "metadata": {
    "papermill": {
     "duration": 0.008605,
     "end_time": "2024-06-20T16:20:39.820555",
     "exception": false,
     "start_time": "2024-06-20T16:20:39.811950",
     "status": "completed"
    },
    "tags": []
   },
   "source": [
    "# Import Packages"
   ]
  },
  {
   "cell_type": "code",
   "execution_count": 1,
   "id": "2009201f",
   "metadata": {
    "execution": {
     "iopub.execute_input": "2024-06-20T16:20:39.839136Z",
     "iopub.status.busy": "2024-06-20T16:20:39.838756Z",
     "iopub.status.idle": "2024-06-20T16:20:40.823189Z",
     "shell.execute_reply": "2024-06-20T16:20:40.822333Z"
    },
    "papermill": {
     "duration": 0.996665,
     "end_time": "2024-06-20T16:20:40.825718",
     "exception": false,
     "start_time": "2024-06-20T16:20:39.829053",
     "status": "completed"
    },
    "tags": []
   },
   "outputs": [],
   "source": [
    "import pandas as pd\n",
    "import matplotlib.pyplot as plt"
   ]
  },
  {
   "cell_type": "markdown",
   "id": "2475957d",
   "metadata": {
    "papermill": {
     "duration": 0.008238,
     "end_time": "2024-06-20T16:20:40.842614",
     "exception": false,
     "start_time": "2024-06-20T16:20:40.834376",
     "status": "completed"
    },
    "tags": []
   },
   "source": [
    "### Train"
   ]
  },
  {
   "cell_type": "code",
   "execution_count": 2,
   "id": "7c5d0bda",
   "metadata": {
    "execution": {
     "iopub.execute_input": "2024-06-20T16:20:40.860770Z",
     "iopub.status.busy": "2024-06-20T16:20:40.860265Z",
     "iopub.status.idle": "2024-06-20T16:20:40.898212Z",
     "shell.execute_reply": "2024-06-20T16:20:40.897298Z"
    },
    "papermill": {
     "duration": 0.049689,
     "end_time": "2024-06-20T16:20:40.900580",
     "exception": false,
     "start_time": "2024-06-20T16:20:40.850891",
     "status": "completed"
    },
    "tags": []
   },
   "outputs": [
    {
     "data": {
      "text/html": [
       "<div>\n",
       "<style scoped>\n",
       "    .dataframe tbody tr th:only-of-type {\n",
       "        vertical-align: middle;\n",
       "    }\n",
       "\n",
       "    .dataframe tbody tr th {\n",
       "        vertical-align: top;\n",
       "    }\n",
       "\n",
       "    .dataframe thead th {\n",
       "        text-align: right;\n",
       "    }\n",
       "</style>\n",
       "<table border=\"1\" class=\"dataframe\">\n",
       "  <thead>\n",
       "    <tr style=\"text-align: right;\">\n",
       "      <th></th>\n",
       "      <th>image_id</th>\n",
       "      <th>healthy</th>\n",
       "      <th>multiple_diseases</th>\n",
       "      <th>rust</th>\n",
       "      <th>scab</th>\n",
       "    </tr>\n",
       "  </thead>\n",
       "  <tbody>\n",
       "    <tr>\n",
       "      <th>0</th>\n",
       "      <td>Train_0</td>\n",
       "      <td>0</td>\n",
       "      <td>0</td>\n",
       "      <td>0</td>\n",
       "      <td>1</td>\n",
       "    </tr>\n",
       "    <tr>\n",
       "      <th>1</th>\n",
       "      <td>Train_1</td>\n",
       "      <td>0</td>\n",
       "      <td>1</td>\n",
       "      <td>0</td>\n",
       "      <td>0</td>\n",
       "    </tr>\n",
       "    <tr>\n",
       "      <th>2</th>\n",
       "      <td>Train_2</td>\n",
       "      <td>1</td>\n",
       "      <td>0</td>\n",
       "      <td>0</td>\n",
       "      <td>0</td>\n",
       "    </tr>\n",
       "    <tr>\n",
       "      <th>3</th>\n",
       "      <td>Train_3</td>\n",
       "      <td>0</td>\n",
       "      <td>0</td>\n",
       "      <td>1</td>\n",
       "      <td>0</td>\n",
       "    </tr>\n",
       "    <tr>\n",
       "      <th>4</th>\n",
       "      <td>Train_4</td>\n",
       "      <td>1</td>\n",
       "      <td>0</td>\n",
       "      <td>0</td>\n",
       "      <td>0</td>\n",
       "    </tr>\n",
       "  </tbody>\n",
       "</table>\n",
       "</div>"
      ],
      "text/plain": [
       "  image_id  healthy  multiple_diseases  rust  scab\n",
       "0  Train_0        0                  0     0     1\n",
       "1  Train_1        0                  1     0     0\n",
       "2  Train_2        1                  0     0     0\n",
       "3  Train_3        0                  0     1     0\n",
       "4  Train_4        1                  0     0     0"
      ]
     },
     "execution_count": 2,
     "metadata": {},
     "output_type": "execute_result"
    }
   ],
   "source": [
    "train_df = pd.read_csv(\"/kaggle/input/plant-pathology-2020-fgvc7/train.csv\")\n",
    "train_df.head()"
   ]
  },
  {
   "cell_type": "markdown",
   "id": "3987c347",
   "metadata": {
    "papermill": {
     "duration": 0.007828,
     "end_time": "2024-06-20T16:20:40.916669",
     "exception": false,
     "start_time": "2024-06-20T16:20:40.908841",
     "status": "completed"
    },
    "tags": []
   },
   "source": [
    "### Test"
   ]
  },
  {
   "cell_type": "code",
   "execution_count": 3,
   "id": "6a10a79e",
   "metadata": {
    "execution": {
     "iopub.execute_input": "2024-06-20T16:20:40.934420Z",
     "iopub.status.busy": "2024-06-20T16:20:40.933850Z",
     "iopub.status.idle": "2024-06-20T16:20:40.952001Z",
     "shell.execute_reply": "2024-06-20T16:20:40.950983Z"
    },
    "papermill": {
     "duration": 0.029969,
     "end_time": "2024-06-20T16:20:40.954494",
     "exception": false,
     "start_time": "2024-06-20T16:20:40.924525",
     "status": "completed"
    },
    "tags": []
   },
   "outputs": [
    {
     "data": {
      "text/html": [
       "<div>\n",
       "<style scoped>\n",
       "    .dataframe tbody tr th:only-of-type {\n",
       "        vertical-align: middle;\n",
       "    }\n",
       "\n",
       "    .dataframe tbody tr th {\n",
       "        vertical-align: top;\n",
       "    }\n",
       "\n",
       "    .dataframe thead th {\n",
       "        text-align: right;\n",
       "    }\n",
       "</style>\n",
       "<table border=\"1\" class=\"dataframe\">\n",
       "  <thead>\n",
       "    <tr style=\"text-align: right;\">\n",
       "      <th></th>\n",
       "      <th>image_id</th>\n",
       "    </tr>\n",
       "  </thead>\n",
       "  <tbody>\n",
       "    <tr>\n",
       "      <th>0</th>\n",
       "      <td>Test_0</td>\n",
       "    </tr>\n",
       "    <tr>\n",
       "      <th>1</th>\n",
       "      <td>Test_1</td>\n",
       "    </tr>\n",
       "    <tr>\n",
       "      <th>2</th>\n",
       "      <td>Test_2</td>\n",
       "    </tr>\n",
       "    <tr>\n",
       "      <th>3</th>\n",
       "      <td>Test_3</td>\n",
       "    </tr>\n",
       "    <tr>\n",
       "      <th>4</th>\n",
       "      <td>Test_4</td>\n",
       "    </tr>\n",
       "  </tbody>\n",
       "</table>\n",
       "</div>"
      ],
      "text/plain": [
       "  image_id\n",
       "0   Test_0\n",
       "1   Test_1\n",
       "2   Test_2\n",
       "3   Test_3\n",
       "4   Test_4"
      ]
     },
     "execution_count": 3,
     "metadata": {},
     "output_type": "execute_result"
    }
   ],
   "source": [
    "test_df = pd.read_csv(\"/kaggle/input/plant-pathology-2020-fgvc7/test.csv\")\n",
    "test_df.head()"
   ]
  },
  {
   "cell_type": "markdown",
   "id": "b561b946",
   "metadata": {
    "papermill": {
     "duration": 0.010843,
     "end_time": "2024-06-20T16:20:40.975543",
     "exception": false,
     "start_time": "2024-06-20T16:20:40.964700",
     "status": "completed"
    },
    "tags": []
   },
   "source": [
    "## Overview Statistics"
   ]
  },
  {
   "cell_type": "code",
   "execution_count": 4,
   "id": "e1256236",
   "metadata": {
    "execution": {
     "iopub.execute_input": "2024-06-20T16:20:40.995372Z",
     "iopub.status.busy": "2024-06-20T16:20:40.994989Z",
     "iopub.status.idle": "2024-06-20T16:20:41.024603Z",
     "shell.execute_reply": "2024-06-20T16:20:41.023475Z"
    },
    "papermill": {
     "duration": 0.042246,
     "end_time": "2024-06-20T16:20:41.026888",
     "exception": false,
     "start_time": "2024-06-20T16:20:40.984642",
     "status": "completed"
    },
    "tags": []
   },
   "outputs": [
    {
     "data": {
      "text/html": [
       "<div>\n",
       "<style scoped>\n",
       "    .dataframe tbody tr th:only-of-type {\n",
       "        vertical-align: middle;\n",
       "    }\n",
       "\n",
       "    .dataframe tbody tr th {\n",
       "        vertical-align: top;\n",
       "    }\n",
       "\n",
       "    .dataframe thead th {\n",
       "        text-align: right;\n",
       "    }\n",
       "</style>\n",
       "<table border=\"1\" class=\"dataframe\">\n",
       "  <thead>\n",
       "    <tr style=\"text-align: right;\">\n",
       "      <th></th>\n",
       "      <th>healthy</th>\n",
       "      <th>multiple_diseases</th>\n",
       "      <th>rust</th>\n",
       "      <th>scab</th>\n",
       "    </tr>\n",
       "  </thead>\n",
       "  <tbody>\n",
       "    <tr>\n",
       "      <th>count</th>\n",
       "      <td>1821.000000</td>\n",
       "      <td>1821.000000</td>\n",
       "      <td>1821.000000</td>\n",
       "      <td>1821.000000</td>\n",
       "    </tr>\n",
       "    <tr>\n",
       "      <th>mean</th>\n",
       "      <td>0.283361</td>\n",
       "      <td>0.049973</td>\n",
       "      <td>0.341571</td>\n",
       "      <td>0.325096</td>\n",
       "    </tr>\n",
       "    <tr>\n",
       "      <th>std</th>\n",
       "      <td>0.450754</td>\n",
       "      <td>0.217948</td>\n",
       "      <td>0.474367</td>\n",
       "      <td>0.468539</td>\n",
       "    </tr>\n",
       "    <tr>\n",
       "      <th>min</th>\n",
       "      <td>0.000000</td>\n",
       "      <td>0.000000</td>\n",
       "      <td>0.000000</td>\n",
       "      <td>0.000000</td>\n",
       "    </tr>\n",
       "    <tr>\n",
       "      <th>25%</th>\n",
       "      <td>0.000000</td>\n",
       "      <td>0.000000</td>\n",
       "      <td>0.000000</td>\n",
       "      <td>0.000000</td>\n",
       "    </tr>\n",
       "    <tr>\n",
       "      <th>50%</th>\n",
       "      <td>0.000000</td>\n",
       "      <td>0.000000</td>\n",
       "      <td>0.000000</td>\n",
       "      <td>0.000000</td>\n",
       "    </tr>\n",
       "    <tr>\n",
       "      <th>75%</th>\n",
       "      <td>1.000000</td>\n",
       "      <td>0.000000</td>\n",
       "      <td>1.000000</td>\n",
       "      <td>1.000000</td>\n",
       "    </tr>\n",
       "    <tr>\n",
       "      <th>max</th>\n",
       "      <td>1.000000</td>\n",
       "      <td>1.000000</td>\n",
       "      <td>1.000000</td>\n",
       "      <td>1.000000</td>\n",
       "    </tr>\n",
       "  </tbody>\n",
       "</table>\n",
       "</div>"
      ],
      "text/plain": [
       "           healthy  multiple_diseases         rust         scab\n",
       "count  1821.000000        1821.000000  1821.000000  1821.000000\n",
       "mean      0.283361           0.049973     0.341571     0.325096\n",
       "std       0.450754           0.217948     0.474367     0.468539\n",
       "min       0.000000           0.000000     0.000000     0.000000\n",
       "25%       0.000000           0.000000     0.000000     0.000000\n",
       "50%       0.000000           0.000000     0.000000     0.000000\n",
       "75%       1.000000           0.000000     1.000000     1.000000\n",
       "max       1.000000           1.000000     1.000000     1.000000"
      ]
     },
     "execution_count": 4,
     "metadata": {},
     "output_type": "execute_result"
    }
   ],
   "source": [
    "train_df.describe()"
   ]
  },
  {
   "cell_type": "code",
   "execution_count": 5,
   "id": "a8445e1e",
   "metadata": {
    "execution": {
     "iopub.execute_input": "2024-06-20T16:20:41.046620Z",
     "iopub.status.busy": "2024-06-20T16:20:41.046238Z",
     "iopub.status.idle": "2024-06-20T16:20:41.071499Z",
     "shell.execute_reply": "2024-06-20T16:20:41.070024Z"
    },
    "papermill": {
     "duration": 0.037648,
     "end_time": "2024-06-20T16:20:41.073630",
     "exception": false,
     "start_time": "2024-06-20T16:20:41.035982",
     "status": "completed"
    },
    "tags": []
   },
   "outputs": [
    {
     "name": "stdout",
     "output_type": "stream",
     "text": [
      "<class 'pandas.core.frame.DataFrame'>\n",
      "RangeIndex: 1821 entries, 0 to 1820\n",
      "Data columns (total 5 columns):\n",
      " #   Column             Non-Null Count  Dtype \n",
      "---  ------             --------------  ----- \n",
      " 0   image_id           1821 non-null   object\n",
      " 1   healthy            1821 non-null   int64 \n",
      " 2   multiple_diseases  1821 non-null   int64 \n",
      " 3   rust               1821 non-null   int64 \n",
      " 4   scab               1821 non-null   int64 \n",
      "dtypes: int64(4), object(1)\n",
      "memory usage: 71.3+ KB\n"
     ]
    }
   ],
   "source": [
    "train_df.info()"
   ]
  },
  {
   "cell_type": "markdown",
   "id": "3fbcbe3a",
   "metadata": {
    "papermill": {
     "duration": 0.009602,
     "end_time": "2024-06-20T16:20:41.093056",
     "exception": false,
     "start_time": "2024-06-20T16:20:41.083454",
     "status": "completed"
    },
    "tags": []
   },
   "source": [
    "# EDA"
   ]
  },
  {
   "cell_type": "code",
   "execution_count": 6,
   "id": "66040e0c",
   "metadata": {
    "execution": {
     "iopub.execute_input": "2024-06-20T16:20:41.114886Z",
     "iopub.status.busy": "2024-06-20T16:20:41.114161Z",
     "iopub.status.idle": "2024-06-20T16:20:41.124754Z",
     "shell.execute_reply": "2024-06-20T16:20:41.123582Z"
    },
    "papermill": {
     "duration": 0.024427,
     "end_time": "2024-06-20T16:20:41.127456",
     "exception": false,
     "start_time": "2024-06-20T16:20:41.103029",
     "status": "completed"
    },
    "tags": []
   },
   "outputs": [
    {
     "data": {
      "text/plain": [
       "516"
      ]
     },
     "execution_count": 6,
     "metadata": {},
     "output_type": "execute_result"
    }
   ],
   "source": [
    "healthy_label = train_df['healthy'].value_counts()[1]\n",
    "healthy_label"
   ]
  },
  {
   "cell_type": "code",
   "execution_count": 7,
   "id": "f45688f7",
   "metadata": {
    "execution": {
     "iopub.execute_input": "2024-06-20T16:20:41.148723Z",
     "iopub.status.busy": "2024-06-20T16:20:41.148344Z",
     "iopub.status.idle": "2024-06-20T16:20:41.155659Z",
     "shell.execute_reply": "2024-06-20T16:20:41.154705Z"
    },
    "papermill": {
     "duration": 0.019937,
     "end_time": "2024-06-20T16:20:41.157748",
     "exception": false,
     "start_time": "2024-06-20T16:20:41.137811",
     "status": "completed"
    },
    "tags": []
   },
   "outputs": [
    {
     "data": {
      "text/plain": [
       "91"
      ]
     },
     "execution_count": 7,
     "metadata": {},
     "output_type": "execute_result"
    }
   ],
   "source": [
    "multiple_diseases = train_df['multiple_diseases'].value_counts()[1]\n",
    "multiple_diseases"
   ]
  },
  {
   "cell_type": "code",
   "execution_count": 8,
   "id": "0f4e5c8c",
   "metadata": {
    "execution": {
     "iopub.execute_input": "2024-06-20T16:20:41.179779Z",
     "iopub.status.busy": "2024-06-20T16:20:41.179373Z",
     "iopub.status.idle": "2024-06-20T16:20:41.186809Z",
     "shell.execute_reply": "2024-06-20T16:20:41.185902Z"
    },
    "papermill": {
     "duration": 0.021027,
     "end_time": "2024-06-20T16:20:41.188883",
     "exception": false,
     "start_time": "2024-06-20T16:20:41.167856",
     "status": "completed"
    },
    "tags": []
   },
   "outputs": [
    {
     "data": {
      "text/plain": [
       "592"
      ]
     },
     "execution_count": 8,
     "metadata": {},
     "output_type": "execute_result"
    }
   ],
   "source": [
    "scab = train_df['scab'].value_counts()[1]\n",
    "scab"
   ]
  },
  {
   "cell_type": "code",
   "execution_count": 9,
   "id": "956fa74f",
   "metadata": {
    "execution": {
     "iopub.execute_input": "2024-06-20T16:20:41.208953Z",
     "iopub.status.busy": "2024-06-20T16:20:41.208647Z",
     "iopub.status.idle": "2024-06-20T16:20:41.215348Z",
     "shell.execute_reply": "2024-06-20T16:20:41.214414Z"
    },
    "papermill": {
     "duration": 0.019719,
     "end_time": "2024-06-20T16:20:41.217710",
     "exception": false,
     "start_time": "2024-06-20T16:20:41.197991",
     "status": "completed"
    },
    "tags": []
   },
   "outputs": [
    {
     "data": {
      "text/plain": [
       "622"
      ]
     },
     "execution_count": 9,
     "metadata": {},
     "output_type": "execute_result"
    }
   ],
   "source": [
    "rust = train_df['rust'].value_counts()[1]\n",
    "rust"
   ]
  },
  {
   "cell_type": "code",
   "execution_count": 10,
   "id": "c3e3c2c1",
   "metadata": {
    "execution": {
     "iopub.execute_input": "2024-06-20T16:20:41.238689Z",
     "iopub.status.busy": "2024-06-20T16:20:41.238321Z",
     "iopub.status.idle": "2024-06-20T16:20:41.527472Z",
     "shell.execute_reply": "2024-06-20T16:20:41.526485Z"
    },
    "papermill": {
     "duration": 0.302184,
     "end_time": "2024-06-20T16:20:41.529930",
     "exception": false,
     "start_time": "2024-06-20T16:20:41.227746",
     "status": "completed"
    },
    "tags": []
   },
   "outputs": [
    {
     "data": {
      "image/png": "[encoded data removed]",
      "text/plain": [
       "<Figure size 640x480 with 1 Axes>"
      ]
     },
     "metadata": {},
     "output_type": "display_data"
    }
   ],
   "source": [
    "import matplotlib.pyplot as plt\n",
    "\n",
    "# Data\n",
    "numbers = [healthy_label, multiple_diseases, scab, rust]\n",
    "labels = ['healthy', 'multiple_diseases', 'scab', 'rust']\n",
    "\n",
    "# Create bar plot\n",
    "plt.bar(labels, numbers)\n",
    "\n",
    "# Add title and labels\n",
    "plt.title('Bar Plot of Three Numbers')\n",
    "plt.xlabel('Categories')\n",
    "plt.ylabel('Values')\n",
    "\n",
    "# Show plot\n",
    "plt.show()\n"
   ]
  },
  {
   "cell_type": "markdown",
   "id": "af323803",
   "metadata": {
    "papermill": {
     "duration": 0.010918,
     "end_time": "2024-06-20T16:20:41.551097",
     "exception": false,
     "start_time": "2024-06-20T16:20:41.540179",
     "status": "completed"
    },
    "tags": []
   },
   "source": [
    "### Conclusion\n",
    "We notice that the multiple_disease class has the least number of samples. Therefore, we will attempt to increase the number of samples by employing augmentation techniques, aiming to ensure equal treatment of all classes by the model."
   ]
  },
  {
   "cell_type": "markdown",
   "id": "630449a7",
   "metadata": {
    "papermill": {
     "duration": 0.009893,
     "end_time": "2024-06-20T16:20:41.571188",
     "exception": false,
     "start_time": "2024-06-20T16:20:41.561295",
     "status": "completed"
    },
    "tags": []
   },
   "source": [
    "# Reformat the Data"
   ]
  },
  {
   "cell_type": "code",
   "execution_count": 11,
   "id": "80ff7069",
   "metadata": {
    "execution": {
     "iopub.execute_input": "2024-06-20T16:20:41.592955Z",
     "iopub.status.busy": "2024-06-20T16:20:41.592594Z",
     "iopub.status.idle": "2024-06-20T16:20:41.618576Z",
     "shell.execute_reply": "2024-06-20T16:20:41.617460Z"
    },
    "papermill": {
     "duration": 0.039771,
     "end_time": "2024-06-20T16:20:41.621011",
     "exception": false,
     "start_time": "2024-06-20T16:20:41.581240",
     "status": "completed"
    },
    "tags": []
   },
   "outputs": [
    {
     "data": {
      "text/html": [
       "<div>\n",
       "<style scoped>\n",
       "    .dataframe tbody tr th:only-of-type {\n",
       "        vertical-align: middle;\n",
       "    }\n",
       "\n",
       "    .dataframe tbody tr th {\n",
       "        vertical-align: top;\n",
       "    }\n",
       "\n",
       "    .dataframe thead th {\n",
       "        text-align: right;\n",
       "    }\n",
       "</style>\n",
       "<table border=\"1\" class=\"dataframe\">\n",
       "  <thead>\n",
       "    <tr style=\"text-align: right;\">\n",
       "      <th></th>\n",
       "      <th>image_id</th>\n",
       "      <th>healthy</th>\n",
       "      <th>multiple_diseases</th>\n",
       "      <th>rust</th>\n",
       "      <th>scab</th>\n",
       "      <th>image_path</th>\n",
       "    </tr>\n",
       "  </thead>\n",
       "  <tbody>\n",
       "    <tr>\n",
       "      <th>0</th>\n",
       "      <td>Train_0</td>\n",
       "      <td>0</td>\n",
       "      <td>0</td>\n",
       "      <td>0</td>\n",
       "      <td>1</td>\n",
       "      <td>/kaggle/input/plant-pathology-2020-fgvc7/image...</td>\n",
       "    </tr>\n",
       "    <tr>\n",
       "      <th>1</th>\n",
       "      <td>Train_1</td>\n",
       "      <td>0</td>\n",
       "      <td>1</td>\n",
       "      <td>0</td>\n",
       "      <td>0</td>\n",
       "      <td>/kaggle/input/plant-pathology-2020-fgvc7/image...</td>\n",
       "    </tr>\n",
       "    <tr>\n",
       "      <th>2</th>\n",
       "      <td>Train_2</td>\n",
       "      <td>1</td>\n",
       "      <td>0</td>\n",
       "      <td>0</td>\n",
       "      <td>0</td>\n",
       "      <td>/kaggle/input/plant-pathology-2020-fgvc7/image...</td>\n",
       "    </tr>\n",
       "    <tr>\n",
       "      <th>3</th>\n",
       "      <td>Train_3</td>\n",
       "      <td>0</td>\n",
       "      <td>0</td>\n",
       "      <td>1</td>\n",
       "      <td>0</td>\n",
       "      <td>/kaggle/input/plant-pathology-2020-fgvc7/image...</td>\n",
       "    </tr>\n",
       "    <tr>\n",
       "      <th>4</th>\n",
       "      <td>Train_4</td>\n",
       "      <td>1</td>\n",
       "      <td>0</td>\n",
       "      <td>0</td>\n",
       "      <td>0</td>\n",
       "      <td>/kaggle/input/plant-pathology-2020-fgvc7/image...</td>\n",
       "    </tr>\n",
       "    <tr>\n",
       "      <th>...</th>\n",
       "      <td>...</td>\n",
       "      <td>...</td>\n",
       "      <td>...</td>\n",
       "      <td>...</td>\n",
       "      <td>...</td>\n",
       "      <td>...</td>\n",
       "    </tr>\n",
       "    <tr>\n",
       "      <th>1816</th>\n",
       "      <td>Train_1816</td>\n",
       "      <td>0</td>\n",
       "      <td>0</td>\n",
       "      <td>0</td>\n",
       "      <td>1</td>\n",
       "      <td>/kaggle/input/plant-pathology-2020-fgvc7/image...</td>\n",
       "    </tr>\n",
       "    <tr>\n",
       "      <th>1817</th>\n",
       "      <td>Train_1817</td>\n",
       "      <td>1</td>\n",
       "      <td>0</td>\n",
       "      <td>0</td>\n",
       "      <td>0</td>\n",
       "      <td>/kaggle/input/plant-pathology-2020-fgvc7/image...</td>\n",
       "    </tr>\n",
       "    <tr>\n",
       "      <th>1818</th>\n",
       "      <td>Train_1818</td>\n",
       "      <td>1</td>\n",
       "      <td>0</td>\n",
       "      <td>0</td>\n",
       "      <td>0</td>\n",
       "      <td>/kaggle/input/plant-pathology-2020-fgvc7/image...</td>\n",
       "    </tr>\n",
       "    <tr>\n",
       "      <th>1819</th>\n",
       "      <td>Train_1819</td>\n",
       "      <td>0</td>\n",
       "      <td>0</td>\n",
       "      <td>1</td>\n",
       "      <td>0</td>\n",
       "      <td>/kaggle/input/plant-pathology-2020-fgvc7/image...</td>\n",
       "    </tr>\n",
       "    <tr>\n",
       "      <th>1820</th>\n",
       "      <td>Train_1820</td>\n",
       "      <td>0</td>\n",
       "      <td>0</td>\n",
       "      <td>0</td>\n",
       "      <td>1</td>\n",
       "      <td>/kaggle/input/plant-pathology-2020-fgvc7/image...</td>\n",
       "    </tr>\n",
       "  </tbody>\n",
       "</table>\n",
       "<p>1821 rows × 6 columns</p>\n",
       "</div>"
      ],
      "text/plain": [
       "        image_id  healthy  multiple_diseases  rust  scab  \\\n",
       "0        Train_0        0                  0     0     1   \n",
       "1        Train_1        0                  1     0     0   \n",
       "2        Train_2        1                  0     0     0   \n",
       "3        Train_3        0                  0     1     0   \n",
       "4        Train_4        1                  0     0     0   \n",
       "...          ...      ...                ...   ...   ...   \n",
       "1816  Train_1816        0                  0     0     1   \n",
       "1817  Train_1817        1                  0     0     0   \n",
       "1818  Train_1818        1                  0     0     0   \n",
       "1819  Train_1819        0                  0     1     0   \n",
       "1820  Train_1820        0                  0     0     1   \n",
       "\n",
       "                                             image_path  \n",
       "0     /kaggle/input/plant-pathology-2020-fgvc7/image...  \n",
       "1     /kaggle/input/plant-pathology-2020-fgvc7/image...  \n",
       "2     /kaggle/input/plant-pathology-2020-fgvc7/image...  \n",
       "3     /kaggle/input/plant-pathology-2020-fgvc7/image...  \n",
       "4     /kaggle/input/plant-pathology-2020-fgvc7/image...  \n",
       "...                                                 ...  \n",
       "1816  /kaggle/input/plant-pathology-2020-fgvc7/image...  \n",
       "1817  /kaggle/input/plant-pathology-2020-fgvc7/image...  \n",
       "1818  /kaggle/input/plant-pathology-2020-fgvc7/image...  \n",
       "1819  /kaggle/input/plant-pathology-2020-fgvc7/image...  \n",
       "1820  /kaggle/input/plant-pathology-2020-fgvc7/image...  \n",
       "\n",
       "[1821 rows x 6 columns]"
      ]
     },
     "execution_count": 11,
     "metadata": {},
     "output_type": "execute_result"
    }
   ],
   "source": [
    "import os\n",
    "import pandas as pd\n",
    "\n",
    "# Function to construct image path\n",
    "def construct_image_path(image_id, folder_path):\n",
    "    # Assuming all images are in JPG format\n",
    "    image_path = os.path.join(folder_path, image_id + \".jpg\")\n",
    "    return image_path\n",
    "\n",
    "# Sample dataframe\n",
    "\n",
    "# Path to the folder containing the images\n",
    "images_folder_path = \"/kaggle/input/plant-pathology-2020-fgvc7/images\"\n",
    "\n",
    "# Apply the function to create a new column containing image paths\n",
    "train_df['image_path'] = train_df['image_id'].apply(lambda x: construct_image_path(x, images_folder_path))\n",
    "\n",
    "# Print the dataframe with the new column\n",
    "train_df"
   ]
  },
  {
   "cell_type": "code",
   "execution_count": 12,
   "id": "a794eaf6",
   "metadata": {
    "execution": {
     "iopub.execute_input": "2024-06-20T16:20:41.643611Z",
     "iopub.status.busy": "2024-06-20T16:20:41.643220Z",
     "iopub.status.idle": "2024-06-20T16:21:05.133920Z",
     "shell.execute_reply": "2024-06-20T16:21:05.132783Z"
    },
    "papermill": {
     "duration": 23.50462,
     "end_time": "2024-06-20T16:21:05.136213",
     "exception": false,
     "start_time": "2024-06-20T16:20:41.631593",
     "status": "completed"
    },
    "tags": []
   },
   "outputs": [
    {
     "name": "stdout",
     "output_type": "stream",
     "text": [
      "Images for healthy copied to output/healthy folder successfully.\n",
      "Images for rust copied to output/rust folder successfully.\n",
      "Images for scab copied to output/scab folder successfully.\n",
      "Images for multiple_diseases copied to output/multiple_diseases folder successfully.\n"
     ]
    }
   ],
   "source": [
    "import os\n",
    "import shutil\n",
    "\n",
    "def copy_images_by_column(train_df, column_name):\n",
    "    # Filtered dataframe where the specified column equals 1\n",
    "    filtered_df = train_df[train_df[column_name] == 1]\n",
    "\n",
    "    # Path to the output folder for the specified column\n",
    "    output_folder = os.path.join(\"output\", column_name)\n",
    "\n",
    "    # Create output folder if it doesn't exist\n",
    "    os.makedirs(output_folder, exist_ok=True)\n",
    "\n",
    "    # Iterate through the filtered dataframe and copy images to the output folder\n",
    "    for _, row in filtered_df.iterrows():\n",
    "        image_path = row['image_path']\n",
    "        image_name = os.path.basename(image_path)\n",
    "        output_path = os.path.join(output_folder, image_name)\n",
    "        shutil.copyfile(image_path, output_path)\n",
    "\n",
    "    print(f\"Images for {column_name} copied to {output_folder} folder successfully.\")\n",
    "\n",
    "# Example usage:\n",
    "copy_images_by_column(train_df, 'healthy')\n",
    "copy_images_by_column(train_df, 'rust')\n",
    "copy_images_by_column(train_df, 'scab')\n",
    "copy_images_by_column(train_df, 'multiple_diseases')\n"
   ]
  },
  {
   "cell_type": "code",
   "execution_count": 13,
   "id": "ea475190",
   "metadata": {
    "execution": {
     "iopub.execute_input": "2024-06-20T16:21:05.160011Z",
     "iopub.status.busy": "2024-06-20T16:21:05.159639Z",
     "iopub.status.idle": "2024-06-20T16:21:18.420336Z",
     "shell.execute_reply": "2024-06-20T16:21:18.418938Z"
    },
    "papermill": {
     "duration": 13.276321,
     "end_time": "2024-06-20T16:21:18.423690",
     "exception": false,
     "start_time": "2024-06-20T16:21:05.147369",
     "status": "completed"
    },
    "tags": []
   },
   "outputs": [
    {
     "name": "stdout",
     "output_type": "stream",
     "text": [
      "Augmentation completed.\n"
     ]
    }
   ],
   "source": [
    "import cv2\n",
    "import os\n",
    "import numpy as np\n",
    "import random   \n",
    "\n",
    "# Define the path to your folder containing images\n",
    "folder_path = \"/kaggle/working/output/  multiple_diseases\"\n",
    "\n",
    "# Function to augment images\n",
    "def augment_images(image_path, target_count):\n",
    "    image = cv2.imread(image_path)\n",
    "    if image is None:\n",
    "        print(f\"Error: Unable to read image '{image_path}'. Skipping...\")\n",
    "        return\n",
    "\n",
    "    filename = os.path.basename(image_path)\n",
    "    filename_no_ext, ext = os.path.splitext(filename)\n",
    "    output_dir = os.path.dirname(image_path)\n",
    "\n",
    "    # Calculate the number of augmented images to generate for this original image\n",
    "    num_augmented_images = round(target_count / len(os.listdir(output_dir)))\n",
    "\n",
    "    # Rotation augmentation\n",
    "    for angle in range(10, 360, 60):  # Reduced rotation angles to create 1 image per original\n",
    "        rotated = cv2.rotate(image, angle)\n",
    "        cv2.imwrite(os.path.join(output_dir, f\"{filename_no_ext}_rotated_{angle}{ext}\"), rotated)\n",
    "        num_augmented_images -= 1\n",
    "        if num_augmented_images == 0:\n",
    "            break\n",
    "\n",
    "    # Flip augmentation\n",
    "    if num_augmented_images > 0:\n",
    "        flipped_horizontal = cv2.flip(image, 1)\n",
    "        cv2.imwrite(os.path.join(output_dir, f\"{filename_no_ext}_flipped_horizontal{ext}\"), flipped_horizontal)\n",
    "        num_augmented_images -= 1\n",
    "\n",
    "    if num_augmented_images > 0:\n",
    "        flipped_vertical = cv2.flip(image, 0)\n",
    "        cv2.imwrite(os.path.join(output_dir, f\"{filename_no_ext}_flipped_vertical{ext}\"), flipped_vertical)\n",
    "        num_augmented_images -= 1\n",
    "\n",
    "    # Randomly choose between horizontal and vertical flip for the remaining augmentations\n",
    "    for _ in range(num_augmented_images):\n",
    "        flip_choice = random.choice([\"horizontal\", \"vertical\"])\n",
    "        if flip_choice == \"horizontal\":\n",
    "            flipped = cv2.flip(image, 1)\n",
    "            cv2.imwrite(os.path.join(output_dir, f\"{filename_no_ext}_flipped_{flip_choice}{ext}\"), flipped)\n",
    "        else:\n",
    "            flipped = cv2.flip(image, 0)\n",
    "            cv2.imwrite(os.path.join(output_dir, f\"{filename_no_ext}_flipped_{flip_choice}{ext}\"), flipped)\n",
    "\n",
    "# Iterate over each image in the folder\n",
    "image_files = os.listdir(folder_path)\n",
    "for image_file in image_files:\n",
    "    image_path = os.path.join(folder_path, image_file)\n",
    "    augment_images(image_path, 400)  # Augment each image to reach a total of 400 images\n",
    "\n",
    "print(\"Augmentation completed.\")\n"
   ]
  },
  {
   "cell_type": "markdown",
   "id": "aad8885f",
   "metadata": {
    "papermill": {
     "duration": 0.010156,
     "end_time": "2024-06-20T16:21:18.445615",
     "exception": false,
     "start_time": "2024-06-20T16:21:18.435459",
     "status": "completed"
    },
    "tags": []
   },
   "source": [
    "## Split the data into train, test, val"
   ]
  },
  {
   "cell_type": "code",
   "execution_count": 14,
   "id": "bd512202",
   "metadata": {
    "execution": {
     "iopub.execute_input": "2024-06-20T16:21:18.467363Z",
     "iopub.status.busy": "2024-06-20T16:21:18.467011Z",
     "iopub.status.idle": "2024-06-20T16:21:19.071544Z",
     "shell.execute_reply": "2024-06-20T16:21:19.070472Z"
    },
    "papermill": {
     "duration": 0.618281,
     "end_time": "2024-06-20T16:21:19.073931",
     "exception": false,
     "start_time": "2024-06-20T16:21:18.455650",
     "status": "completed"
    },
    "tags": []
   },
   "outputs": [],
   "source": [
    "import os\n",
    "import shutil\n",
    "import random\n",
    "\n",
    "# Set the path to your dataset folder\n",
    "dataset_folder = \"/kaggle/working/output\"\n",
    "\n",
    "# Define the percentages for train, test, and validation sets\n",
    "train_percent = 0.7\n",
    "test_percent = 0.2\n",
    "val_percent = 0.1\n",
    "\n",
    "# Create a folder for final output\n",
    "final_output_folder = \"/kaggle/working/final_output\"\n",
    "os.makedirs(final_output_folder, exist_ok=True)\n",
    "\n",
    "# Create folders for train, test, and validation sets inside final_output\n",
    "train_folder = os.path.join(final_output_folder, \"train\")\n",
    "test_folder = os.path.join(final_output_folder, \"test\")\n",
    "val_folder = os.path.join(final_output_folder, \"val\")\n",
    "\n",
    "os.makedirs(train_folder, exist_ok=True)\n",
    "os.makedirs(test_folder, exist_ok=True)\n",
    "os.makedirs(val_folder, exist_ok=True)\n",
    "\n",
    "# Loop through each class folder in the dataset\n",
    "for class_folder in os.listdir(dataset_folder):\n",
    "    class_path = os.path.join(dataset_folder, class_folder)\n",
    "    if os.path.isdir(class_path):\n",
    "        # Create corresponding class folders in train, test, and val sets\n",
    "        train_class_path = os.path.join(train_folder, class_folder)\n",
    "        test_class_path = os.path.join(test_folder, class_folder)\n",
    "        val_class_path = os.path.join(val_folder, class_folder)\n",
    "\n",
    "        os.makedirs(train_class_path, exist_ok=True)\n",
    "        os.makedirs(test_class_path, exist_ok=True)\n",
    "        os.makedirs(val_class_path, exist_ok=True)\n",
    "\n",
    "        # Get the list of images in the class folder\n",
    "        images = os.listdir(class_path)\n",
    "        # Shuffle the images randomly\n",
    "        random.shuffle(images)\n",
    "\n",
    "        # Calculate the number of images for each set\n",
    "        num_train = int(len(images) * train_percent)\n",
    "        num_test = int(len(images) * test_percent)\n",
    "        num_val = len(images) - num_train - num_test\n",
    "\n",
    "        # Copy images to train set\n",
    "        for img in images[:num_train]:\n",
    "            shutil.copy(os.path.join(class_path, img), os.path.join(train_class_path, img))\n",
    "\n",
    "        # Copy images to test set\n",
    "        for img in images[num_train:num_train + num_test]:\n",
    "            shutil.copy(os.path.join(class_path, img), os.path.join(test_class_path, img))\n",
    "\n",
    "        # Copy images to validation set\n",
    "        for img in images[num_train + num_test:]:\n",
    "            shutil.copy(os.path.join(class_path, img), os.path.join(val_class_path, img))\n"
   ]
  },
  {
   "cell_type": "markdown",
   "id": "a07425a9",
   "metadata": {
    "papermill": {
     "duration": 0.01029,
     "end_time": "2024-06-20T16:21:19.094745",
     "exception": false,
     "start_time": "2024-06-20T16:21:19.084455",
     "status": "completed"
    },
    "tags": []
   },
   "source": [
    "# Data Preprocessing & Augmentation"
   ]
  },
  {
   "cell_type": "code",
   "execution_count": 15,
   "id": "f1cbeee6",
   "metadata": {
    "execution": {
     "iopub.execute_input": "2024-06-20T16:21:19.119029Z",
     "iopub.status.busy": "2024-06-20T16:21:19.118679Z",
     "iopub.status.idle": "2024-06-20T16:21:34.258558Z",
     "shell.execute_reply": "2024-06-20T16:21:34.257767Z"
    },
    "papermill": {
     "duration": 15.153856,
     "end_time": "2024-06-20T16:21:34.260667",
     "exception": false,
     "start_time": "2024-06-20T16:21:19.106811",
     "status": "completed"
    },
    "tags": []
   },
   "outputs": [
    {
     "name": "stderr",
     "output_type": "stream",
     "text": [
      "2024-06-20 16:21:21.606992: E external/local_xla/xla/stream_executor/cuda/cuda_dnn.cc:9261] Unable to register cuDNN factory: Attempting to register factory for plugin cuDNN when one has already been registered\n",
      "2024-06-20 16:21:21.607118: E external/local_xla/xla/stream_executor/cuda/cuda_fft.cc:607] Unable to register cuFFT factory: Attempting to register factory for plugin cuFFT when one has already been registered\n",
      "2024-06-20 16:21:21.796435: E external/local_xla/xla/stream_executor/cuda/cuda_blas.cc:1515] Unable to register cuBLAS factory: Attempting to register factory for plugin cuBLAS when one has already been registered\n"
     ]
    },
    {
     "name": "stdout",
     "output_type": "stream",
     "text": [
      "Found 1408 images belonging to 4 classes.\n",
      "Found 401 images belonging to 4 classes.\n",
      "Found 205 images belonging to 4 classes.\n"
     ]
    }
   ],
   "source": [
    "from tensorflow.keras.preprocessing.image import ImageDataGenerator\n",
    "\n",
    "# Define paths for train, test, and validation data\n",
    "train_dir = '/kaggle/working/final_output/train'\n",
    "test_dir = '/kaggle/working/final_output/test'\n",
    "val_dir = '/kaggle/working/final_output/val'\n",
    "\n",
    "# Define data generators with augmentation\n",
    "train_datagen = ImageDataGenerator(\n",
    "    rescale=1./255,\n",
    "    rotation_range=20,\n",
    "    width_shift_range=0.1,\n",
    "    height_shift_range=0.1,\n",
    "    shear_range=0.2,\n",
    "    zoom_range=0.2,\n",
    "    horizontal_flip=True\n",
    ")\n",
    "\n",
    "test_datagen = ImageDataGenerator(rescale=1./255)\n",
    "val_datagen = ImageDataGenerator(rescale=1./255)\n",
    "\n",
    "# Create train, test, and validation generators\n",
    "train_generator = train_datagen.flow_from_directory(\n",
    "    train_dir,\n",
    "    target_size=(224, 224),\n",
    "    batch_size=32,\n",
    "    class_mode='categorical'\n",
    ")\n",
    "\n",
    "test_generator = test_datagen.flow_from_directory(\n",
    "    test_dir,\n",
    "    target_size=(224, 224),\n",
    "    batch_size=32,\n",
    "    class_mode='categorical'\n",
    ")\n",
    "\n",
    "val_generator = val_datagen.flow_from_directory(\n",
    "    val_dir,\n",
    "    target_size=(224, 224),\n",
    "    batch_size=32,\n",
    "    class_mode='categorical'\n",
    ")\n"
   ]
  },
  {
   "cell_type": "markdown",
   "id": "52225e95",
   "metadata": {
    "papermill": {
     "duration": 0.011253,
     "end_time": "2024-06-20T16:21:34.284663",
     "exception": false,
     "start_time": "2024-06-20T16:21:34.273410",
     "status": "completed"
    },
    "tags": []
   },
   "source": [
    "# Model Building"
   ]
  },
  {
   "cell_type": "code",
   "execution_count": 16,
   "id": "e735aff7",
   "metadata": {
    "execution": {
     "iopub.execute_input": "2024-06-20T16:21:34.310039Z",
     "iopub.status.busy": "2024-06-20T16:21:34.308914Z",
     "iopub.status.idle": "2024-06-20T16:30:32.423728Z",
     "shell.execute_reply": "2024-06-20T16:30:32.422906Z"
    },
    "papermill": {
     "duration": 538.130121,
     "end_time": "2024-06-20T16:30:32.425996",
     "exception": false,
     "start_time": "2024-06-20T16:21:34.295875",
     "status": "completed"
    },
    "tags": []
   },
   "outputs": [
    {
     "name": "stdout",
     "output_type": "stream",
     "text": [
      "Downloading data from https://storage.googleapis.com/tensorflow/keras-applications/mobilenet_v2/mobilenet_v2_weights_tf_dim_ordering_tf_kernels_1.0_224_no_top.h5\n",
      "\u001b[1m9406464/9406464\u001b[0m \u001b[32m━━━━━━━━━━━━━━━━━━━━\u001b[0m\u001b[37m\u001b[0m \u001b[1m0s\u001b[0m 0us/step\n"
     ]
    },
    {
     "data": {
      "text/html": [
       "<pre style=\"white-space:pre;overflow-x:auto;line-height:normal;font-family:Menlo,'DejaVu Sans Mono',consolas,'Courier New',monospace\"><span style=\"font-weight: bold\">Model: \"sequential\"</span>\n",
       "</pre>\n"
      ],
      "text/plain": [
       "\u001b[1mModel: \"sequential\"\u001b[0m\n"
      ]
     },
     "metadata": {},
     "output_type": "display_data"
    },
    {
     "data": {
      "text/html": [
       "<pre style=\"white-space:pre;overflow-x:auto;line-height:normal;font-family:Menlo,'DejaVu Sans Mono',consolas,'Courier New',monospace\">┏━━━━━━━━━━━━━━━━━━━━━━━━━━━━━━━━━┳━━━━━━━━━━━━━━━━━━━━━━━━┳━━━━━━━━━━━━━━━┓\n",
       "┃<span style=\"font-weight: bold\"> Layer (type)                    </span>┃<span style=\"font-weight: bold\"> Output Shape           </span>┃<span style=\"font-weight: bold\">       Param # </span>┃\n",
       "┡━━━━━━━━━━━━━━━━━━━━━━━━━━━━━━━━━╇━━━━━━━━━━━━━━━━━━━━━━━━╇━━━━━━━━━━━━━━━┩\n",
       "│ mobilenetv2_1.00_224            │ ?                      │     <span style=\"color: #00af00; text-decoration-color: #00af00\">2,257,984</span> │\n",
       "│ (<span style=\"color: #0087ff; text-decoration-color: #0087ff\">Functional</span>)                    │                        │               │\n",
       "├─────────────────────────────────┼────────────────────────┼───────────────┤\n",
       "│ flatten (<span style=\"color: #0087ff; text-decoration-color: #0087ff\">Flatten</span>)               │ ?                      │   <span style=\"color: #00af00; text-decoration-color: #00af00\">0</span> (unbuilt) │\n",
       "├─────────────────────────────────┼────────────────────────┼───────────────┤\n",
       "│ dense (<span style=\"color: #0087ff; text-decoration-color: #0087ff\">Dense</span>)                   │ ?                      │   <span style=\"color: #00af00; text-decoration-color: #00af00\">0</span> (unbuilt) │\n",
       "├─────────────────────────────────┼────────────────────────┼───────────────┤\n",
       "│ dense_1 (<span style=\"color: #0087ff; text-decoration-color: #0087ff\">Dense</span>)                 │ ?                      │   <span style=\"color: #00af00; text-decoration-color: #00af00\">0</span> (unbuilt) │\n",
       "└─────────────────────────────────┴────────────────────────┴───────────────┘\n",
       "</pre>\n"
      ],
      "text/plain": [
       "┏━━━━━━━━━━━━━━━━━━━━━━━━━━━━━━━━━┳━━━━━━━━━━━━━━━━━━━━━━━━┳━━━━━━━━━━━━━━━┓\n",
       "┃\u001b[1m \u001b[0m\u001b[1mLayer (type)                   \u001b[0m\u001b[1m \u001b[0m┃\u001b[1m \u001b[0m\u001b[1mOutput Shape          \u001b[0m\u001b[1m \u001b[0m┃\u001b[1m \u001b[0m\u001b[1m      Param #\u001b[0m\u001b[1m \u001b[0m┃\n",
       "┡━━━━━━━━━━━━━━━━━━━━━━━━━━━━━━━━━╇━━━━━━━━━━━━━━━━━━━━━━━━╇━━━━━━━━━━━━━━━┩\n",
       "│ mobilenetv2_1.00_224            │ ?                      │     \u001b[38;5;34m2,257,984\u001b[0m │\n",
       "│ (\u001b[38;5;33mFunctional\u001b[0m)                    │                        │               │\n",
       "├─────────────────────────────────┼────────────────────────┼───────────────┤\n",
       "│ flatten (\u001b[38;5;33mFlatten\u001b[0m)               │ ?                      │   \u001b[38;5;34m0\u001b[0m (unbuilt) │\n",
       "├─────────────────────────────────┼────────────────────────┼───────────────┤\n",
       "│ dense (\u001b[38;5;33mDense\u001b[0m)                   │ ?                      │   \u001b[38;5;34m0\u001b[0m (unbuilt) │\n",
       "├─────────────────────────────────┼────────────────────────┼───────────────┤\n",
       "│ dense_1 (\u001b[38;5;33mDense\u001b[0m)                 │ ?                      │   \u001b[38;5;34m0\u001b[0m (unbuilt) │\n",
       "└─────────────────────────────────┴────────────────────────┴───────────────┘\n"
      ]
     },
     "metadata": {},
     "output_type": "display_data"
    },
    {
     "data": {
      "text/html": [
       "<pre style=\"white-space:pre;overflow-x:auto;line-height:normal;font-family:Menlo,'DejaVu Sans Mono',consolas,'Courier New',monospace\"><span style=\"font-weight: bold\"> Total params: </span><span style=\"color: #00af00; text-decoration-color: #00af00\">2,257,984</span> (8.61 MB)\n",
       "</pre>\n"
      ],
      "text/plain": [
       "\u001b[1m Total params: \u001b[0m\u001b[38;5;34m2,257,984\u001b[0m (8.61 MB)\n"
      ]
     },
     "metadata": {},
     "output_type": "display_data"
    },
    {
     "data": {
      "text/html": [
       "<pre style=\"white-space:pre;overflow-x:auto;line-height:normal;font-family:Menlo,'DejaVu Sans Mono',consolas,'Courier New',monospace\"><span style=\"font-weight: bold\"> Trainable params: </span><span style=\"color: #00af00; text-decoration-color: #00af00\">0</span> (0.00 B)\n",
       "</pre>\n"
      ],
      "text/plain": [
       "\u001b[1m Trainable params: \u001b[0m\u001b[38;5;34m0\u001b[0m (0.00 B)\n"
      ]
     },
     "metadata": {},
     "output_type": "display_data"
    },
    {
     "data": {
      "text/html": [
       "<pre style=\"white-space:pre;overflow-x:auto;line-height:normal;font-family:Menlo,'DejaVu Sans Mono',consolas,'Courier New',monospace\"><span style=\"font-weight: bold\"> Non-trainable params: </span><span style=\"color: #00af00; text-decoration-color: #00af00\">2,257,984</span> (8.61 MB)\n",
       "</pre>\n"
      ],
      "text/plain": [
       "\u001b[1m Non-trainable params: \u001b[0m\u001b[38;5;34m2,257,984\u001b[0m (8.61 MB)\n"
      ]
     },
     "metadata": {},
     "output_type": "display_data"
    },
    {
     "name": "stdout",
     "output_type": "stream",
     "text": [
      "Epoch 1/25\n"
     ]
    },
    {
     "name": "stderr",
     "output_type": "stream",
     "text": [
      "/opt/conda/lib/python3.10/site-packages/keras/src/trainers/data_adapters/py_dataset_adapter.py:120: UserWarning: Your `PyDataset` class should call `super().__init__(**kwargs)` in its constructor. `**kwargs` can include `workers`, `use_multiprocessing`, `max_queue_size`. Do not pass these arguments to `fit()`, as they will be ignored.\n",
      "  self._warn_if_super_not_called()\n"
     ]
    },
    {
     "name": "stdout",
     "output_type": "stream",
     "text": [
      "\u001b[1m 1/44\u001b[0m \u001b[37m━━━━━━━━━━━━━━━━━━━━\u001b[0m \u001b[1m16:14\u001b[0m 23s/step - accuracy: 0.0938 - loss: 2.0867"
     ]
    },
    {
     "name": "stderr",
     "output_type": "stream",
     "text": [
      "WARNING: All log messages before absl::InitializeLog() is called are written to STDERR\n",
      "I0000 00:00:1718900521.389365      90 device_compiler.h:186] Compiled cluster using XLA!  This line is logged at most once for the lifetime of the process.\n",
      "W0000 00:00:1718900521.426171      90 graph_launch.cc:671] Fallback to op-by-op mode because memset node breaks graph update\n"
     ]
    },
    {
     "name": "stdout",
     "output_type": "stream",
     "text": [
      "\u001b[1m43/44\u001b[0m \u001b[32m━━━━━━━━━━━━━━━━━━━\u001b[0m\u001b[37m━\u001b[0m \u001b[1m0s\u001b[0m 734ms/step - accuracy: 0.4990 - loss: 14.5901"
     ]
    },
    {
     "name": "stderr",
     "output_type": "stream",
     "text": [
      "W0000 00:00:1718900557.367085      90 graph_launch.cc:671] Fallback to op-by-op mode because memset node breaks graph update\n"
     ]
    },
    {
     "name": "stdout",
     "output_type": "stream",
     "text": [
      "\u001b[1m44/44\u001b[0m \u001b[32m━━━━━━━━━━━━━━━━━━━━\u001b[0m\u001b[37m\u001b[0m \u001b[1m66s\u001b[0m 1s/step - accuracy: 0.5059 - loss: 14.2569 - val_accuracy: 0.7951 - val_loss: 1.0128\n",
      "Epoch 2/25\n",
      "\u001b[1m44/44\u001b[0m \u001b[32m━━━━━━━━━━━━━━━━━━━━\u001b[0m\u001b[37m\u001b[0m \u001b[1m0s\u001b[0m 987us/step - accuracy: 0.0000e+00 - loss: 0.0000e+00 - val_accuracy: 0.0000e+00 - val_loss: 0.0000e+00\n",
      "Epoch 3/25\n"
     ]
    },
    {
     "name": "stderr",
     "output_type": "stream",
     "text": [
      "W0000 00:00:1718900564.572742      92 graph_launch.cc:671] Fallback to op-by-op mode because memset node breaks graph update\n",
      "/opt/conda/lib/python3.10/contextlib.py:153: UserWarning: Your input ran out of data; interrupting training. Make sure that your dataset or generator can generate at least `steps_per_epoch * epochs` batches. You may need to use the `.repeat()` function when building your dataset.\n",
      "  self.gen.throw(typ, value, traceback)\n"
     ]
    },
    {
     "name": "stdout",
     "output_type": "stream",
     "text": [
      "\u001b[1m44/44\u001b[0m \u001b[32m━━━━━━━━━━━━━━━━━━━━\u001b[0m\u001b[37m\u001b[0m \u001b[1m39s\u001b[0m 761ms/step - accuracy: 0.7946 - loss: 0.9525 - val_accuracy: 0.8146 - val_loss: 0.9167\n",
      "Epoch 4/25\n",
      "\u001b[1m44/44\u001b[0m \u001b[32m━━━━━━━━━━━━━━━━━━━━\u001b[0m\u001b[37m\u001b[0m \u001b[1m0s\u001b[0m 400us/step - accuracy: 0.0000e+00 - loss: 0.0000e+00 - val_accuracy: 0.0000e+00 - val_loss: 0.0000e+00\n",
      "Epoch 5/25\n",
      "\u001b[1m44/44\u001b[0m \u001b[32m━━━━━━━━━━━━━━━━━━━━\u001b[0m\u001b[37m\u001b[0m \u001b[1m40s\u001b[0m 777ms/step - accuracy: 0.8275 - loss: 0.6988 - val_accuracy: 0.7512 - val_loss: 1.0325\n",
      "Epoch 6/25\n",
      "\u001b[1m44/44\u001b[0m \u001b[32m━━━━━━━━━━━━━━━━━━━━\u001b[0m\u001b[37m\u001b[0m \u001b[1m0s\u001b[0m 440us/step - accuracy: 0.0000e+00 - loss: 0.0000e+00 - val_accuracy: 0.0000e+00 - val_loss: 0.0000e+00\n",
      "Epoch 7/25\n",
      "\u001b[1m44/44\u001b[0m \u001b[32m━━━━━━━━━━━━━━━━━━━━\u001b[0m\u001b[37m\u001b[0m \u001b[1m40s\u001b[0m 778ms/step - accuracy: 0.8569 - loss: 0.4705 - val_accuracy: 0.8000 - val_loss: 0.6949\n",
      "Epoch 8/25\n",
      "\u001b[1m44/44\u001b[0m \u001b[32m━━━━━━━━━━━━━━━━━━━━\u001b[0m\u001b[37m\u001b[0m \u001b[1m0s\u001b[0m 424us/step - accuracy: 0.0000e+00 - loss: 0.0000e+00 - val_accuracy: 0.0000e+00 - val_loss: 0.0000e+00\n",
      "Epoch 9/25\n",
      "\u001b[1m44/44\u001b[0m \u001b[32m━━━━━━━━━━━━━━━━━━━━\u001b[0m\u001b[37m\u001b[0m \u001b[1m38s\u001b[0m 728ms/step - accuracy: 0.8705 - loss: 0.4669 - val_accuracy: 0.8390 - val_loss: 0.7767\n",
      "Epoch 10/25\n",
      "\u001b[1m44/44\u001b[0m \u001b[32m━━━━━━━━━━━━━━━━━━━━\u001b[0m\u001b[37m\u001b[0m \u001b[1m0s\u001b[0m 471us/step - accuracy: 0.0000e+00 - loss: 0.0000e+00 - val_accuracy: 0.0000e+00 - val_loss: 0.0000e+00\n",
      "Epoch 11/25\n",
      "\u001b[1m44/44\u001b[0m \u001b[32m━━━━━━━━━━━━━━━━━━━━\u001b[0m\u001b[37m\u001b[0m \u001b[1m40s\u001b[0m 765ms/step - accuracy: 0.8871 - loss: 0.3511 - val_accuracy: 0.8146 - val_loss: 0.6995\n",
      "Epoch 12/25\n",
      "\u001b[1m44/44\u001b[0m \u001b[32m━━━━━━━━━━━━━━━━━━━━\u001b[0m\u001b[37m\u001b[0m \u001b[1m0s\u001b[0m 429us/step - accuracy: 0.0000e+00 - loss: 0.0000e+00 - val_accuracy: 0.0000e+00 - val_loss: 0.0000e+00\n",
      "Epoch 13/25\n",
      "\u001b[1m44/44\u001b[0m \u001b[32m━━━━━━━━━━━━━━━━━━━━\u001b[0m\u001b[37m\u001b[0m \u001b[1m39s\u001b[0m 739ms/step - accuracy: 0.9063 - loss: 0.3197 - val_accuracy: 0.7951 - val_loss: 0.7269\n",
      "Epoch 14/25\n",
      "\u001b[1m44/44\u001b[0m \u001b[32m━━━━━━━━━━━━━━━━━━━━\u001b[0m\u001b[37m\u001b[0m \u001b[1m0s\u001b[0m 452us/step - accuracy: 0.0000e+00 - loss: 0.0000e+00 - val_accuracy: 0.0000e+00 - val_loss: 0.0000e+00\n",
      "Epoch 15/25\n",
      "\u001b[1m44/44\u001b[0m \u001b[32m━━━━━━━━━━━━━━━━━━━━\u001b[0m\u001b[37m\u001b[0m \u001b[1m41s\u001b[0m 799ms/step - accuracy: 0.8952 - loss: 0.3165 - val_accuracy: 0.8341 - val_loss: 0.7443\n",
      "Epoch 16/25\n",
      "\u001b[1m44/44\u001b[0m \u001b[32m━━━━━━━━━━━━━━━━━━━━\u001b[0m\u001b[37m\u001b[0m \u001b[1m0s\u001b[0m 399us/step - accuracy: 0.0000e+00 - loss: 0.0000e+00 - val_accuracy: 0.0000e+00 - val_loss: 0.0000e+00\n",
      "Epoch 17/25\n",
      "\u001b[1m44/44\u001b[0m \u001b[32m━━━━━━━━━━━━━━━━━━━━\u001b[0m\u001b[37m\u001b[0m \u001b[1m37s\u001b[0m 718ms/step - accuracy: 0.8995 - loss: 0.2984 - val_accuracy: 0.8195 - val_loss: 0.7410\n",
      "Epoch 18/25\n",
      "\u001b[1m44/44\u001b[0m \u001b[32m━━━━━━━━━━━━━━━━━━━━\u001b[0m\u001b[37m\u001b[0m \u001b[1m0s\u001b[0m 586us/step - accuracy: 0.0000e+00 - loss: 0.0000e+00 - val_accuracy: 0.0000e+00 - val_loss: 0.0000e+00\n",
      "Epoch 19/25\n",
      "\u001b[1m44/44\u001b[0m \u001b[32m━━━━━━━━━━━━━━━━━━━━\u001b[0m\u001b[37m\u001b[0m \u001b[1m40s\u001b[0m 763ms/step - accuracy: 0.9270 - loss: 0.2218 - val_accuracy: 0.7854 - val_loss: 0.7948\n",
      "Epoch 20/25\n",
      "\u001b[1m44/44\u001b[0m \u001b[32m━━━━━━━━━━━━━━━━━━━━\u001b[0m\u001b[37m\u001b[0m \u001b[1m0s\u001b[0m 560us/step - accuracy: 0.0000e+00 - loss: 0.0000e+00 - val_accuracy: 0.0000e+00 - val_loss: 0.0000e+00\n",
      "Epoch 21/25\n",
      "\u001b[1m44/44\u001b[0m \u001b[32m━━━━━━━━━━━━━━━━━━━━\u001b[0m\u001b[37m\u001b[0m \u001b[1m37s\u001b[0m 714ms/step - accuracy: 0.9409 - loss: 0.1639 - val_accuracy: 0.8293 - val_loss: 0.6909\n",
      "Epoch 22/25\n",
      "\u001b[1m44/44\u001b[0m \u001b[32m━━━━━━━━━━━━━━━━━━━━\u001b[0m\u001b[37m\u001b[0m \u001b[1m0s\u001b[0m 426us/step - accuracy: 0.0000e+00 - loss: 0.0000e+00 - val_accuracy: 0.0000e+00 - val_loss: 0.0000e+00\n",
      "Epoch 23/25\n",
      "\u001b[1m44/44\u001b[0m \u001b[32m━━━━━━━━━━━━━━━━━━━━\u001b[0m\u001b[37m\u001b[0m \u001b[1m38s\u001b[0m 727ms/step - accuracy: 0.9188 - loss: 0.2462 - val_accuracy: 0.7951 - val_loss: 0.7578\n",
      "Epoch 24/25\n",
      "\u001b[1m44/44\u001b[0m \u001b[32m━━━━━━━━━━━━━━━━━━━━\u001b[0m\u001b[37m\u001b[0m \u001b[1m0s\u001b[0m 462us/step - accuracy: 0.0000e+00 - loss: 0.0000e+00 - val_accuracy: 0.0000e+00 - val_loss: 0.0000e+00\n",
      "Epoch 25/25\n",
      "\u001b[1m44/44\u001b[0m \u001b[32m━━━━━━━━━━━━━━━━━━━━\u001b[0m\u001b[37m\u001b[0m \u001b[1m39s\u001b[0m 761ms/step - accuracy: 0.9396 - loss: 0.1750 - val_accuracy: 0.8098 - val_loss: 0.7529\n"
     ]
    }
   ],
   "source": [
    "from tensorflow.keras.applications import MobileNetV2\n",
    "from tensorflow.keras.models import Sequential\n",
    "from tensorflow.keras.layers import Dense, Flatten\n",
    "from tensorflow.keras.optimizers import Adam\n",
    "\n",
    "# Load the pre-trained MobileNetV2 model\n",
    "base_model = MobileNetV2(weights='imagenet', include_top=False, input_shape=(224, 224, 3))\n",
    "\n",
    "# Freeze the convolutional base\n",
    "base_model.trainable = False\n",
    "\n",
    "# Create a new model on top of the pre-trained base\n",
    "model = Sequential([\n",
    "    base_model,\n",
    "    Flatten(),\n",
    "    Dense(256, activation='relu'),\n",
    "    Dense(4, activation='softmax')  # 4 classes\n",
    "])\n",
    "\n",
    "# Compile the model\n",
    "model.compile(optimizer=Adam(),\n",
    "              loss='categorical_crossentropy',\n",
    "              metrics=['accuracy'])\n",
    "\n",
    "# Print model summary\n",
    "model.summary()\n",
    "\n",
    "# Train the model\n",
    "history = model.fit(\n",
    "    train_generator,\n",
    "    steps_per_epoch=len(train_generator),\n",
    "    epochs=25,\n",
    "    validation_data=val_generator,\n",
    "    validation_steps=len(val_generator)\n",
    ")\n"
   ]
  },
  {
   "cell_type": "markdown",
   "id": "353d0644",
   "metadata": {
    "papermill": {
     "duration": 0.060579,
     "end_time": "2024-06-20T16:30:32.546277",
     "exception": false,
     "start_time": "2024-06-20T16:30:32.485698",
     "status": "completed"
    },
    "tags": []
   },
   "source": [
    "## Result"
   ]
  },
  {
   "cell_type": "code",
   "execution_count": 17,
   "id": "e3b0f187",
   "metadata": {
    "execution": {
     "iopub.execute_input": "2024-06-20T16:30:32.667292Z",
     "iopub.status.busy": "2024-06-20T16:30:32.666355Z",
     "iopub.status.idle": "2024-06-20T16:30:33.148295Z",
     "shell.execute_reply": "2024-06-20T16:30:33.147314Z"
    },
    "papermill": {
     "duration": 0.544147,
     "end_time": "2024-06-20T16:30:33.150758",
     "exception": false,
     "start_time": "2024-06-20T16:30:32.606611",
     "status": "completed"
    },
    "tags": []
   },
   "outputs": [
    {
     "data": {
      "image/png": "[encoded data removed]",
      "text/plain": [
       "<Figure size 640x480 with 1 Axes>"
      ]
     },
     "metadata": {},
     "output_type": "display_data"
    },
    {
     "data": {
      "image/png": "[encoded data removed]",
      "text/plain": [
       "<Figure size 640x480 with 1 Axes>"
      ]
     },
     "metadata": {},
     "output_type": "display_data"
    }
   ],
   "source": [
    "import matplotlib.pyplot as plt\n",
    "\n",
    "# Plot training & validation accuracy values\n",
    "plt.plot(history.history['accuracy'])\n",
    "plt.plot(history.history['val_accuracy'])\n",
    "plt.title('Model accuracy')\n",
    "plt.ylabel('Accuracy')\n",
    "plt.xlabel('Epoch')\n",
    "plt.legend(['Train', 'Validation'], loc='upper left')\n",
    "plt.show()\n",
    "\n",
    "# Plot training & validation loss values\n",
    "plt.plot(history.history['loss'])\n",
    "plt.plot(history.history['val_loss'])\n",
    "plt.title('Model loss')\n",
    "plt.ylabel('Loss')\n",
    "plt.xlabel('Epoch')\n",
    "plt.legend(['Train', 'Validation'], loc='upper left')\n",
    "plt.show()\n"
   ]
  },
  {
   "cell_type": "code",
   "execution_count": 18,
   "id": "4edafff8",
   "metadata": {
    "execution": {
     "iopub.execute_input": "2024-06-20T16:30:33.281387Z",
     "iopub.status.busy": "2024-06-20T16:30:33.280759Z",
     "iopub.status.idle": "2024-06-20T16:30:45.729098Z",
     "shell.execute_reply": "2024-06-20T16:30:45.727963Z"
    },
    "papermill": {
     "duration": 12.515371,
     "end_time": "2024-06-20T16:30:45.731643",
     "exception": false,
     "start_time": "2024-06-20T16:30:33.216272",
     "status": "completed"
    },
    "tags": []
   },
   "outputs": [
    {
     "name": "stdout",
     "output_type": "stream",
     "text": [
      "\u001b[1m13/13\u001b[0m \u001b[32m━━━━━━━━━━━━━━━━━━━━\u001b[0m\u001b[37m\u001b[0m \u001b[1m11s\u001b[0m 909ms/step - accuracy: 0.8345 - loss: 0.6297\n",
      "Test accuracy: 0.8329176902770996\n"
     ]
    },
    {
     "name": "stderr",
     "output_type": "stream",
     "text": [
      "W0000 00:00:1718901045.712015      91 graph_launch.cc:671] Fallback to op-by-op mode because memset node breaks graph update\n"
     ]
    }
   ],
   "source": [
    "# Evaluate the model on the test set\n",
    "test_loss, test_accuracy = model.evaluate(test_generator)\n",
    "print(f'Test accuracy: {test_accuracy}')"
   ]
  },
  {
   "cell_type": "code",
   "execution_count": 19,
   "id": "c5f4fd55",
   "metadata": {
    "execution": {
     "iopub.execute_input": "2024-06-20T16:30:45.861084Z",
     "iopub.status.busy": "2024-06-20T16:30:45.860727Z",
     "iopub.status.idle": "2024-06-20T16:31:01.309036Z",
     "shell.execute_reply": "2024-06-20T16:31:01.307928Z"
    },
    "papermill": {
     "duration": 15.517083,
     "end_time": "2024-06-20T16:31:01.312057",
     "exception": false,
     "start_time": "2024-06-20T16:30:45.794974",
     "status": "completed"
    },
    "tags": []
   },
   "outputs": [
    {
     "name": "stdout",
     "output_type": "stream",
     "text": [
      "\u001b[1m 1/13\u001b[0m \u001b[32m━\u001b[0m\u001b[37m━━━━━━━━━━━━━━━━━━━\u001b[0m \u001b[1m50s\u001b[0m 4s/step"
     ]
    },
    {
     "name": "stderr",
     "output_type": "stream",
     "text": [
      "W0000 00:00:1718901052.022114      90 graph_launch.cc:671] Fallback to op-by-op mode because memset node breaks graph update\n"
     ]
    },
    {
     "name": "stdout",
     "output_type": "stream",
     "text": [
      "\u001b[1m13/13\u001b[0m \u001b[32m━━━━━━━━━━━━━━━━━━━━\u001b[0m\u001b[37m\u001b[0m \u001b[1m13s\u001b[0m 715ms/step\n"
     ]
    },
    {
     "name": "stderr",
     "output_type": "stream",
     "text": [
      "W0000 00:00:1718901060.599999      92 graph_launch.cc:671] Fallback to op-by-op mode because memset node breaks graph update\n"
     ]
    },
    {
     "data": {
      "image/png": "[encoded data removed]",
      "text/plain": [
       "<Figure size 800x600 with 2 Axes>"
      ]
     },
     "metadata": {},
     "output_type": "display_data"
    },
    {
     "data": {
      "image/png": "[encoded data removed]",
      "text/plain": [
       "<Figure size 800x600 with 1 Axes>"
      ]
     },
     "metadata": {},
     "output_type": "display_data"
    }
   ],
   "source": [
    "import numpy as np\n",
    "import matplotlib.pyplot as plt\n",
    "from sklearn.metrics import confusion_matrix, roc_curve, auc\n",
    "from tensorflow.keras.utils import to_categorical\n",
    "\n",
    "# Make predictions on test data\n",
    "y_pred_prob = model.predict(test_generator)\n",
    "y_pred = np.argmax(y_pred_prob, axis=1)\n",
    "y_true = test_generator.classes\n",
    "\n",
    "# Compute confusion matrix\n",
    "conf_matrix = confusion_matrix(y_true, y_pred)\n",
    "\n",
    "# Plot confusion matrix\n",
    "plt.figure(figsize=(8, 6))\n",
    "plt.imshow(conf_matrix, cmap='Blues', interpolation='nearest')\n",
    "plt.title('Confusion Matrix')\n",
    "plt.colorbar()\n",
    "plt.xlabel('Predicted Labels')\n",
    "plt.ylabel('True Labels')\n",
    "plt.xticks(ticks=np.arange(4), labels=['Class 0', 'Class 1', 'Class 2', 'Class 3'])\n",
    "plt.yticks(ticks=np.arange(4), labels=['Class 0', 'Class 1', 'Class 2', 'Class 3'])\n",
    "plt.show()\n",
    "\n",
    "# Compute ROC curve and AUC for each class\n",
    "num_classes = len(np.unique(y_true))\n",
    "fpr = dict()\n",
    "tpr = dict()\n",
    "roc_auc = dict()\n",
    "y_true_binary = to_categorical(y_true, num_classes=num_classes)\n",
    "for i in range(num_classes):\n",
    "    fpr[i], tpr[i], _ = roc_curve(y_true_binary[:, i], y_pred_prob[:, i])\n",
    "    roc_auc[i] = auc(fpr[i], tpr[i])\n",
    "\n",
    "# Plot ROC curve for each class\n",
    "plt.figure(figsize=(8, 6))\n",
    "for i in range(num_classes):\n",
    "    plt.plot(fpr[i], tpr[i], label=f'Class {i} (AUC = {roc_auc[i]:.2f})')\n",
    "plt.plot([0, 1], [0, 1], 'k--', label='Random Guess')\n",
    "plt.xlabel('False Positive Rate')\n",
    "plt.ylabel('True Positive Rate')\n",
    "plt.title('ROC Curve')\n",
    "plt.legend(loc='lower right')\n",
    "plt.show()\n"
   ]
  },
  {
   "cell_type": "markdown",
   "id": "56dee2ab",
   "metadata": {
    "papermill": {
     "duration": 0.067137,
     "end_time": "2024-06-20T16:31:01.450413",
     "exception": false,
     "start_time": "2024-06-20T16:31:01.383276",
     "status": "completed"
    },
    "tags": []
   },
   "source": [
    "# Conclusion\n",
    "After trying different architectures of CNN, MobileNet emerged with the highest accuracy. The issue with previous models was their tendency to overfit the data due to the small number of samples available. Interestingly, the models with lower accuracy had a larger number of weights, whereas MobileNetV2, with the fewest weights, yielded the best accuracy."
   ]
  }
 ],
 "metadata": {
  "kaggle": {
   "accelerator": "nvidiaTeslaT4",
   "dataSources": [
    {
     "databundleVersionId": 1026645,
     "sourceId": 18648,
     "sourceType": "competition"
    }
   ],
   "dockerImageVersionId": 30698,
   "isGpuEnabled": true,
   "isInternetEnabled": true,
   "language": "python",
   "sourceType": "notebook"
  },
  "kernelspec": {
   "display_name": "Python 3",
   "language": "python",
   "name": "python3"
  },
  "language_info": {
   "codemirror_mode": {
    "name": "ipython",
    "version": 3
   },
   "file_extension": ".py",
   "mimetype": "text/x-python",
   "name": "python",
   "nbconvert_exporter": "python",
   "pygments_lexer": "ipython3",
   "version": "3.10.13"
  },
  "papermill": {
   "default_parameters": {},
   "duration": 628.881787,
   "end_time": "2024-06-20T16:31:05.290273",
   "environment_variables": {},
   "exception": null,
   "input_path": "__notebook__.ipynb",
   "output_path": "__notebook__.ipynb",
   "parameters": {},
   "start_time": "2024-06-20T16:20:36.408486",
   "version": "2.5.0"
  }
 },
 "nbformat": 4,
 "nbformat_minor": 5
}
